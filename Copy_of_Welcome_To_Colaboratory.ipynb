{
  "cells": [
    {
      "cell_type": "markdown",
      "metadata": {
        "id": "view-in-github",
        "colab_type": "text"
      },
      "source": [
        "<a href=\"https://colab.research.google.com/github/yabdulquadri/testrep/blob/main/Copy_of_Welcome_To_Colaboratory.ipynb\" target=\"_parent\"><img src=\"https://colab.research.google.com/assets/colab-badge.svg\" alt=\"Open In Colab\"/></a>"
      ]
    },
    {
      "cell_type": "code",
      "source": [
        "import numpy as np \n",
        "import pandas as pd \n",
        "import matplotlib.pyplot as plt \n",
        "import tensorflow as tf \n",
        "import seaborn as sns \n",
        "from sklearn.preprocessing import StandardScaler\n",
        "from sklearn.model_selection import train_test_split"
      ],
      "metadata": {
        "id": "PIouJU6UmZ3V"
      },
      "execution_count": null,
      "outputs": []
    },
    {
      "cell_type": "markdown",
      "source": [],
      "metadata": {
        "id": "8apseC4Zmaap"
      }
    },
    {
      "cell_type": "code",
      "source": [
        "cervical_data = pd.read_csv('Cervical cancer behaviour risk.csv')"
      ],
      "metadata": {
        "id": "JeqMKUfAm2ZL"
      },
      "execution_count": null,
      "outputs": []
    },
    {
      "cell_type": "code",
      "source": [
        "cervical_data.head()"
      ],
      "metadata": {
        "colab": {
          "base_uri": "https://localhost:8080/",
          "height": 270
        },
        "id": "ZWt_Ho_mp4sc",
        "outputId": "0b749093-7c03-4184-e3dc-0635f6e34eaa"
      },
      "execution_count": null,
      "outputs": [
        {
          "output_type": "execute_result",
          "data": {
            "text/plain": [
              "   behavior_sexualRisk  behavior_eating  behavior_personalHygine  \\\n",
              "0                   10               13                       12   \n",
              "1                   10               11                       11   \n",
              "2                   10               15                        3   \n",
              "3                   10               11                       10   \n",
              "4                    8               11                        7   \n",
              "\n",
              "   intention_aggregation  intention_commitment  attitude_consistency  \\\n",
              "0                      4                     7                     9   \n",
              "1                     10                    14                     7   \n",
              "2                      2                    14                     8   \n",
              "3                     10                    15                     7   \n",
              "4                      8                    10                     7   \n",
              "\n",
              "   attitude_spontaneity  norm_significantPerson  norm_fulfillment  \\\n",
              "0                    10                       1                 8   \n",
              "1                     7                       5                 5   \n",
              "2                    10                       1                 4   \n",
              "3                     7                       1                 5   \n",
              "4                     8                       1                 5   \n",
              "\n",
              "   perception_vulnerability  perception_severity  motivation_strength  \\\n",
              "0                         7                    3                   14   \n",
              "1                         4                    2                   15   \n",
              "2                         7                    2                    7   \n",
              "3                         4                    2                   15   \n",
              "4                         3                    2                   15   \n",
              "\n",
              "   motivation_willingness  socialSupport_emotionality  \\\n",
              "0                       8                           5   \n",
              "1                      13                           7   \n",
              "2                       3                           3   \n",
              "3                      13                           7   \n",
              "4                       5                           3   \n",
              "\n",
              "   socialSupport_appreciation  socialSupport_instrumental  \\\n",
              "0                           7                          12   \n",
              "1                           6                           5   \n",
              "2                           6                          11   \n",
              "3                           4                           4   \n",
              "4                           6                          12   \n",
              "\n",
              "   empowerment_knowledge  empowerment_abilities  empowerment_desires  \\\n",
              "0                     12                     11                    8   \n",
              "1                      5                      4                    4   \n",
              "2                      3                      3                   15   \n",
              "3                      4                      4                    4   \n",
              "4                      5                      4                    7   \n",
              "\n",
              "   ca_cervix  \n",
              "0          1  \n",
              "1          1  \n",
              "2          1  \n",
              "3          1  \n",
              "4          1  "
            ],
            "text/html": [
              "\n",
              "  <div id=\"df-63752502-1e6a-451c-acad-5070480a845f\">\n",
              "    <div class=\"colab-df-container\">\n",
              "      <div>\n",
              "<style scoped>\n",
              "    .dataframe tbody tr th:only-of-type {\n",
              "        vertical-align: middle;\n",
              "    }\n",
              "\n",
              "    .dataframe tbody tr th {\n",
              "        vertical-align: top;\n",
              "    }\n",
              "\n",
              "    .dataframe thead th {\n",
              "        text-align: right;\n",
              "    }\n",
              "</style>\n",
              "<table border=\"1\" class=\"dataframe\">\n",
              "  <thead>\n",
              "    <tr style=\"text-align: right;\">\n",
              "      <th></th>\n",
              "      <th>behavior_sexualRisk</th>\n",
              "      <th>behavior_eating</th>\n",
              "      <th>behavior_personalHygine</th>\n",
              "      <th>intention_aggregation</th>\n",
              "      <th>intention_commitment</th>\n",
              "      <th>attitude_consistency</th>\n",
              "      <th>attitude_spontaneity</th>\n",
              "      <th>norm_significantPerson</th>\n",
              "      <th>norm_fulfillment</th>\n",
              "      <th>perception_vulnerability</th>\n",
              "      <th>perception_severity</th>\n",
              "      <th>motivation_strength</th>\n",
              "      <th>motivation_willingness</th>\n",
              "      <th>socialSupport_emotionality</th>\n",
              "      <th>socialSupport_appreciation</th>\n",
              "      <th>socialSupport_instrumental</th>\n",
              "      <th>empowerment_knowledge</th>\n",
              "      <th>empowerment_abilities</th>\n",
              "      <th>empowerment_desires</th>\n",
              "      <th>ca_cervix</th>\n",
              "    </tr>\n",
              "  </thead>\n",
              "  <tbody>\n",
              "    <tr>\n",
              "      <th>0</th>\n",
              "      <td>10</td>\n",
              "      <td>13</td>\n",
              "      <td>12</td>\n",
              "      <td>4</td>\n",
              "      <td>7</td>\n",
              "      <td>9</td>\n",
              "      <td>10</td>\n",
              "      <td>1</td>\n",
              "      <td>8</td>\n",
              "      <td>7</td>\n",
              "      <td>3</td>\n",
              "      <td>14</td>\n",
              "      <td>8</td>\n",
              "      <td>5</td>\n",
              "      <td>7</td>\n",
              "      <td>12</td>\n",
              "      <td>12</td>\n",
              "      <td>11</td>\n",
              "      <td>8</td>\n",
              "      <td>1</td>\n",
              "    </tr>\n",
              "    <tr>\n",
              "      <th>1</th>\n",
              "      <td>10</td>\n",
              "      <td>11</td>\n",
              "      <td>11</td>\n",
              "      <td>10</td>\n",
              "      <td>14</td>\n",
              "      <td>7</td>\n",
              "      <td>7</td>\n",
              "      <td>5</td>\n",
              "      <td>5</td>\n",
              "      <td>4</td>\n",
              "      <td>2</td>\n",
              "      <td>15</td>\n",
              "      <td>13</td>\n",
              "      <td>7</td>\n",
              "      <td>6</td>\n",
              "      <td>5</td>\n",
              "      <td>5</td>\n",
              "      <td>4</td>\n",
              "      <td>4</td>\n",
              "      <td>1</td>\n",
              "    </tr>\n",
              "    <tr>\n",
              "      <th>2</th>\n",
              "      <td>10</td>\n",
              "      <td>15</td>\n",
              "      <td>3</td>\n",
              "      <td>2</td>\n",
              "      <td>14</td>\n",
              "      <td>8</td>\n",
              "      <td>10</td>\n",
              "      <td>1</td>\n",
              "      <td>4</td>\n",
              "      <td>7</td>\n",
              "      <td>2</td>\n",
              "      <td>7</td>\n",
              "      <td>3</td>\n",
              "      <td>3</td>\n",
              "      <td>6</td>\n",
              "      <td>11</td>\n",
              "      <td>3</td>\n",
              "      <td>3</td>\n",
              "      <td>15</td>\n",
              "      <td>1</td>\n",
              "    </tr>\n",
              "    <tr>\n",
              "      <th>3</th>\n",
              "      <td>10</td>\n",
              "      <td>11</td>\n",
              "      <td>10</td>\n",
              "      <td>10</td>\n",
              "      <td>15</td>\n",
              "      <td>7</td>\n",
              "      <td>7</td>\n",
              "      <td>1</td>\n",
              "      <td>5</td>\n",
              "      <td>4</td>\n",
              "      <td>2</td>\n",
              "      <td>15</td>\n",
              "      <td>13</td>\n",
              "      <td>7</td>\n",
              "      <td>4</td>\n",
              "      <td>4</td>\n",
              "      <td>4</td>\n",
              "      <td>4</td>\n",
              "      <td>4</td>\n",
              "      <td>1</td>\n",
              "    </tr>\n",
              "    <tr>\n",
              "      <th>4</th>\n",
              "      <td>8</td>\n",
              "      <td>11</td>\n",
              "      <td>7</td>\n",
              "      <td>8</td>\n",
              "      <td>10</td>\n",
              "      <td>7</td>\n",
              "      <td>8</td>\n",
              "      <td>1</td>\n",
              "      <td>5</td>\n",
              "      <td>3</td>\n",
              "      <td>2</td>\n",
              "      <td>15</td>\n",
              "      <td>5</td>\n",
              "      <td>3</td>\n",
              "      <td>6</td>\n",
              "      <td>12</td>\n",
              "      <td>5</td>\n",
              "      <td>4</td>\n",
              "      <td>7</td>\n",
              "      <td>1</td>\n",
              "    </tr>\n",
              "  </tbody>\n",
              "</table>\n",
              "</div>\n",
              "      <button class=\"colab-df-convert\" onclick=\"convertToInteractive('df-63752502-1e6a-451c-acad-5070480a845f')\"\n",
              "              title=\"Convert this dataframe to an interactive table.\"\n",
              "              style=\"display:none;\">\n",
              "        \n",
              "  <svg xmlns=\"http://www.w3.org/2000/svg\" height=\"24px\"viewBox=\"0 0 24 24\"\n",
              "       width=\"24px\">\n",
              "    <path d=\"M0 0h24v24H0V0z\" fill=\"none\"/>\n",
              "    <path d=\"M18.56 5.44l.94 2.06.94-2.06 2.06-.94-2.06-.94-.94-2.06-.94 2.06-2.06.94zm-11 1L8.5 8.5l.94-2.06 2.06-.94-2.06-.94L8.5 2.5l-.94 2.06-2.06.94zm10 10l.94 2.06.94-2.06 2.06-.94-2.06-.94-.94-2.06-.94 2.06-2.06.94z\"/><path d=\"M17.41 7.96l-1.37-1.37c-.4-.4-.92-.59-1.43-.59-.52 0-1.04.2-1.43.59L10.3 9.45l-7.72 7.72c-.78.78-.78 2.05 0 2.83L4 21.41c.39.39.9.59 1.41.59.51 0 1.02-.2 1.41-.59l7.78-7.78 2.81-2.81c.8-.78.8-2.07 0-2.86zM5.41 20L4 18.59l7.72-7.72 1.47 1.35L5.41 20z\"/>\n",
              "  </svg>\n",
              "      </button>\n",
              "      \n",
              "  <style>\n",
              "    .colab-df-container {\n",
              "      display:flex;\n",
              "      flex-wrap:wrap;\n",
              "      gap: 12px;\n",
              "    }\n",
              "\n",
              "    .colab-df-convert {\n",
              "      background-color: #E8F0FE;\n",
              "      border: none;\n",
              "      border-radius: 50%;\n",
              "      cursor: pointer;\n",
              "      display: none;\n",
              "      fill: #1967D2;\n",
              "      height: 32px;\n",
              "      padding: 0 0 0 0;\n",
              "      width: 32px;\n",
              "    }\n",
              "\n",
              "    .colab-df-convert:hover {\n",
              "      background-color: #E2EBFA;\n",
              "      box-shadow: 0px 1px 2px rgba(60, 64, 67, 0.3), 0px 1px 3px 1px rgba(60, 64, 67, 0.15);\n",
              "      fill: #174EA6;\n",
              "    }\n",
              "\n",
              "    [theme=dark] .colab-df-convert {\n",
              "      background-color: #3B4455;\n",
              "      fill: #D2E3FC;\n",
              "    }\n",
              "\n",
              "    [theme=dark] .colab-df-convert:hover {\n",
              "      background-color: #434B5C;\n",
              "      box-shadow: 0px 1px 3px 1px rgba(0, 0, 0, 0.15);\n",
              "      filter: drop-shadow(0px 1px 2px rgba(0, 0, 0, 0.3));\n",
              "      fill: #FFFFFF;\n",
              "    }\n",
              "  </style>\n",
              "\n",
              "      <script>\n",
              "        const buttonEl =\n",
              "          document.querySelector('#df-63752502-1e6a-451c-acad-5070480a845f button.colab-df-convert');\n",
              "        buttonEl.style.display =\n",
              "          google.colab.kernel.accessAllowed ? 'block' : 'none';\n",
              "\n",
              "        async function convertToInteractive(key) {\n",
              "          const element = document.querySelector('#df-63752502-1e6a-451c-acad-5070480a845f');\n",
              "          const dataTable =\n",
              "            await google.colab.kernel.invokeFunction('convertToInteractive',\n",
              "                                                     [key], {});\n",
              "          if (!dataTable) return;\n",
              "\n",
              "          const docLinkHtml = 'Like what you see? Visit the ' +\n",
              "            '<a target=\"_blank\" href=https://colab.research.google.com/notebooks/data_table.ipynb>data table notebook</a>'\n",
              "            + ' to learn more about interactive tables.';\n",
              "          element.innerHTML = '';\n",
              "          dataTable['output_type'] = 'display_data';\n",
              "          await google.colab.output.renderOutput(dataTable, element);\n",
              "          const docLink = document.createElement('div');\n",
              "          docLink.innerHTML = docLinkHtml;\n",
              "          element.appendChild(docLink);\n",
              "        }\n",
              "      </script>\n",
              "    </div>\n",
              "  </div>\n",
              "  "
            ]
          },
          "metadata": {},
          "execution_count": 74
        }
      ]
    },
    {
      "cell_type": "code",
      "source": [
        "cervical_data.describe()"
      ],
      "metadata": {
        "colab": {
          "base_uri": "https://localhost:8080/",
          "height": 364
        },
        "id": "JUnI1-WCp9zx",
        "outputId": "05be21f0-e755-448f-9dad-f993176b3c47"
      },
      "execution_count": null,
      "outputs": [
        {
          "output_type": "execute_result",
          "data": {
            "text/plain": [
              "       behavior_sexualRisk  behavior_eating  behavior_personalHygine  \\\n",
              "count            72.000000        72.000000                72.000000   \n",
              "mean              9.666667        12.791667                11.083333   \n",
              "std               1.186782         2.361293                 3.033847   \n",
              "min               2.000000         3.000000                 3.000000   \n",
              "25%              10.000000        11.000000                 9.000000   \n",
              "50%              10.000000        13.000000                11.000000   \n",
              "75%              10.000000        15.000000                14.000000   \n",
              "max              10.000000        15.000000                15.000000   \n",
              "\n",
              "       intention_aggregation  intention_commitment  attitude_consistency  \\\n",
              "count              72.000000             72.000000             72.000000   \n",
              "mean                7.902778             13.347222              7.180556   \n",
              "std                 2.738148              2.374511              1.522844   \n",
              "min                 2.000000              6.000000              2.000000   \n",
              "25%                 6.000000             11.000000              6.000000   \n",
              "50%                10.000000             15.000000              7.000000   \n",
              "75%                10.000000             15.000000              8.000000   \n",
              "max                10.000000             15.000000             10.000000   \n",
              "\n",
              "       attitude_spontaneity  norm_significantPerson  norm_fulfillment  \\\n",
              "count             72.000000               72.000000         72.000000   \n",
              "mean               8.611111                3.125000          8.486111   \n",
              "std                1.515698                1.845722          4.907577   \n",
              "min                4.000000                1.000000          3.000000   \n",
              "25%                8.000000                1.000000          3.000000   \n",
              "50%                9.000000                3.000000          7.000000   \n",
              "75%               10.000000                5.000000         14.000000   \n",
              "max               10.000000                5.000000         15.000000   \n",
              "\n",
              "       perception_vulnerability  perception_severity  motivation_strength  \\\n",
              "count                 72.000000            72.000000            72.000000   \n",
              "mean                   8.513889             5.388889            12.652778   \n",
              "std                    4.275686             3.400727             3.207209   \n",
              "min                    3.000000             2.000000             3.000000   \n",
              "25%                    5.000000             2.000000            11.000000   \n",
              "50%                    8.000000             4.000000            14.000000   \n",
              "75%                   13.000000             9.000000            15.000000   \n",
              "max                   15.000000            10.000000            15.000000   \n",
              "\n",
              "       motivation_willingness  socialSupport_emotionality  \\\n",
              "count               72.000000                   72.000000   \n",
              "mean                 9.694444                    8.097222   \n",
              "std                  4.130406                    4.243171   \n",
              "min                  3.000000                    3.000000   \n",
              "25%                  7.000000                    3.000000   \n",
              "50%                 11.000000                    9.000000   \n",
              "75%                 13.000000                   11.250000   \n",
              "max                 15.000000                   15.000000   \n",
              "\n",
              "       socialSupport_appreciation  socialSupport_instrumental  \\\n",
              "count                   72.000000                   72.000000   \n",
              "mean                     6.166667                   10.375000   \n",
              "std                      2.897303                    4.316485   \n",
              "min                      2.000000                    3.000000   \n",
              "25%                      3.750000                    6.750000   \n",
              "50%                      6.500000                   12.000000   \n",
              "75%                      9.000000                   14.250000   \n",
              "max                     10.000000                   15.000000   \n",
              "\n",
              "       empowerment_knowledge  empowerment_abilities  empowerment_desires  \\\n",
              "count              72.000000              72.000000            72.000000   \n",
              "mean               10.541667               9.319444            10.277778   \n",
              "std                 4.366768               4.181874             4.482273   \n",
              "min                 3.000000               3.000000             3.000000   \n",
              "25%                 7.000000               5.000000             6.750000   \n",
              "50%                12.000000              10.000000            11.000000   \n",
              "75%                15.000000              13.000000            15.000000   \n",
              "max                15.000000              15.000000            15.000000   \n",
              "\n",
              "       ca_cervix  \n",
              "count  72.000000  \n",
              "mean    0.291667  \n",
              "std     0.457719  \n",
              "min     0.000000  \n",
              "25%     0.000000  \n",
              "50%     0.000000  \n",
              "75%     1.000000  \n",
              "max     1.000000  "
            ],
            "text/html": [
              "\n",
              "  <div id=\"df-ad5ec336-ba09-410b-943a-96fbbc66ae85\">\n",
              "    <div class=\"colab-df-container\">\n",
              "      <div>\n",
              "<style scoped>\n",
              "    .dataframe tbody tr th:only-of-type {\n",
              "        vertical-align: middle;\n",
              "    }\n",
              "\n",
              "    .dataframe tbody tr th {\n",
              "        vertical-align: top;\n",
              "    }\n",
              "\n",
              "    .dataframe thead th {\n",
              "        text-align: right;\n",
              "    }\n",
              "</style>\n",
              "<table border=\"1\" class=\"dataframe\">\n",
              "  <thead>\n",
              "    <tr style=\"text-align: right;\">\n",
              "      <th></th>\n",
              "      <th>behavior_sexualRisk</th>\n",
              "      <th>behavior_eating</th>\n",
              "      <th>behavior_personalHygine</th>\n",
              "      <th>intention_aggregation</th>\n",
              "      <th>intention_commitment</th>\n",
              "      <th>attitude_consistency</th>\n",
              "      <th>attitude_spontaneity</th>\n",
              "      <th>norm_significantPerson</th>\n",
              "      <th>norm_fulfillment</th>\n",
              "      <th>perception_vulnerability</th>\n",
              "      <th>perception_severity</th>\n",
              "      <th>motivation_strength</th>\n",
              "      <th>motivation_willingness</th>\n",
              "      <th>socialSupport_emotionality</th>\n",
              "      <th>socialSupport_appreciation</th>\n",
              "      <th>socialSupport_instrumental</th>\n",
              "      <th>empowerment_knowledge</th>\n",
              "      <th>empowerment_abilities</th>\n",
              "      <th>empowerment_desires</th>\n",
              "      <th>ca_cervix</th>\n",
              "    </tr>\n",
              "  </thead>\n",
              "  <tbody>\n",
              "    <tr>\n",
              "      <th>count</th>\n",
              "      <td>72.000000</td>\n",
              "      <td>72.000000</td>\n",
              "      <td>72.000000</td>\n",
              "      <td>72.000000</td>\n",
              "      <td>72.000000</td>\n",
              "      <td>72.000000</td>\n",
              "      <td>72.000000</td>\n",
              "      <td>72.000000</td>\n",
              "      <td>72.000000</td>\n",
              "      <td>72.000000</td>\n",
              "      <td>72.000000</td>\n",
              "      <td>72.000000</td>\n",
              "      <td>72.000000</td>\n",
              "      <td>72.000000</td>\n",
              "      <td>72.000000</td>\n",
              "      <td>72.000000</td>\n",
              "      <td>72.000000</td>\n",
              "      <td>72.000000</td>\n",
              "      <td>72.000000</td>\n",
              "      <td>72.000000</td>\n",
              "    </tr>\n",
              "    <tr>\n",
              "      <th>mean</th>\n",
              "      <td>9.666667</td>\n",
              "      <td>12.791667</td>\n",
              "      <td>11.083333</td>\n",
              "      <td>7.902778</td>\n",
              "      <td>13.347222</td>\n",
              "      <td>7.180556</td>\n",
              "      <td>8.611111</td>\n",
              "      <td>3.125000</td>\n",
              "      <td>8.486111</td>\n",
              "      <td>8.513889</td>\n",
              "      <td>5.388889</td>\n",
              "      <td>12.652778</td>\n",
              "      <td>9.694444</td>\n",
              "      <td>8.097222</td>\n",
              "      <td>6.166667</td>\n",
              "      <td>10.375000</td>\n",
              "      <td>10.541667</td>\n",
              "      <td>9.319444</td>\n",
              "      <td>10.277778</td>\n",
              "      <td>0.291667</td>\n",
              "    </tr>\n",
              "    <tr>\n",
              "      <th>std</th>\n",
              "      <td>1.186782</td>\n",
              "      <td>2.361293</td>\n",
              "      <td>3.033847</td>\n",
              "      <td>2.738148</td>\n",
              "      <td>2.374511</td>\n",
              "      <td>1.522844</td>\n",
              "      <td>1.515698</td>\n",
              "      <td>1.845722</td>\n",
              "      <td>4.907577</td>\n",
              "      <td>4.275686</td>\n",
              "      <td>3.400727</td>\n",
              "      <td>3.207209</td>\n",
              "      <td>4.130406</td>\n",
              "      <td>4.243171</td>\n",
              "      <td>2.897303</td>\n",
              "      <td>4.316485</td>\n",
              "      <td>4.366768</td>\n",
              "      <td>4.181874</td>\n",
              "      <td>4.482273</td>\n",
              "      <td>0.457719</td>\n",
              "    </tr>\n",
              "    <tr>\n",
              "      <th>min</th>\n",
              "      <td>2.000000</td>\n",
              "      <td>3.000000</td>\n",
              "      <td>3.000000</td>\n",
              "      <td>2.000000</td>\n",
              "      <td>6.000000</td>\n",
              "      <td>2.000000</td>\n",
              "      <td>4.000000</td>\n",
              "      <td>1.000000</td>\n",
              "      <td>3.000000</td>\n",
              "      <td>3.000000</td>\n",
              "      <td>2.000000</td>\n",
              "      <td>3.000000</td>\n",
              "      <td>3.000000</td>\n",
              "      <td>3.000000</td>\n",
              "      <td>2.000000</td>\n",
              "      <td>3.000000</td>\n",
              "      <td>3.000000</td>\n",
              "      <td>3.000000</td>\n",
              "      <td>3.000000</td>\n",
              "      <td>0.000000</td>\n",
              "    </tr>\n",
              "    <tr>\n",
              "      <th>25%</th>\n",
              "      <td>10.000000</td>\n",
              "      <td>11.000000</td>\n",
              "      <td>9.000000</td>\n",
              "      <td>6.000000</td>\n",
              "      <td>11.000000</td>\n",
              "      <td>6.000000</td>\n",
              "      <td>8.000000</td>\n",
              "      <td>1.000000</td>\n",
              "      <td>3.000000</td>\n",
              "      <td>5.000000</td>\n",
              "      <td>2.000000</td>\n",
              "      <td>11.000000</td>\n",
              "      <td>7.000000</td>\n",
              "      <td>3.000000</td>\n",
              "      <td>3.750000</td>\n",
              "      <td>6.750000</td>\n",
              "      <td>7.000000</td>\n",
              "      <td>5.000000</td>\n",
              "      <td>6.750000</td>\n",
              "      <td>0.000000</td>\n",
              "    </tr>\n",
              "    <tr>\n",
              "      <th>50%</th>\n",
              "      <td>10.000000</td>\n",
              "      <td>13.000000</td>\n",
              "      <td>11.000000</td>\n",
              "      <td>10.000000</td>\n",
              "      <td>15.000000</td>\n",
              "      <td>7.000000</td>\n",
              "      <td>9.000000</td>\n",
              "      <td>3.000000</td>\n",
              "      <td>7.000000</td>\n",
              "      <td>8.000000</td>\n",
              "      <td>4.000000</td>\n",
              "      <td>14.000000</td>\n",
              "      <td>11.000000</td>\n",
              "      <td>9.000000</td>\n",
              "      <td>6.500000</td>\n",
              "      <td>12.000000</td>\n",
              "      <td>12.000000</td>\n",
              "      <td>10.000000</td>\n",
              "      <td>11.000000</td>\n",
              "      <td>0.000000</td>\n",
              "    </tr>\n",
              "    <tr>\n",
              "      <th>75%</th>\n",
              "      <td>10.000000</td>\n",
              "      <td>15.000000</td>\n",
              "      <td>14.000000</td>\n",
              "      <td>10.000000</td>\n",
              "      <td>15.000000</td>\n",
              "      <td>8.000000</td>\n",
              "      <td>10.000000</td>\n",
              "      <td>5.000000</td>\n",
              "      <td>14.000000</td>\n",
              "      <td>13.000000</td>\n",
              "      <td>9.000000</td>\n",
              "      <td>15.000000</td>\n",
              "      <td>13.000000</td>\n",
              "      <td>11.250000</td>\n",
              "      <td>9.000000</td>\n",
              "      <td>14.250000</td>\n",
              "      <td>15.000000</td>\n",
              "      <td>13.000000</td>\n",
              "      <td>15.000000</td>\n",
              "      <td>1.000000</td>\n",
              "    </tr>\n",
              "    <tr>\n",
              "      <th>max</th>\n",
              "      <td>10.000000</td>\n",
              "      <td>15.000000</td>\n",
              "      <td>15.000000</td>\n",
              "      <td>10.000000</td>\n",
              "      <td>15.000000</td>\n",
              "      <td>10.000000</td>\n",
              "      <td>10.000000</td>\n",
              "      <td>5.000000</td>\n",
              "      <td>15.000000</td>\n",
              "      <td>15.000000</td>\n",
              "      <td>10.000000</td>\n",
              "      <td>15.000000</td>\n",
              "      <td>15.000000</td>\n",
              "      <td>15.000000</td>\n",
              "      <td>10.000000</td>\n",
              "      <td>15.000000</td>\n",
              "      <td>15.000000</td>\n",
              "      <td>15.000000</td>\n",
              "      <td>15.000000</td>\n",
              "      <td>1.000000</td>\n",
              "    </tr>\n",
              "  </tbody>\n",
              "</table>\n",
              "</div>\n",
              "      <button class=\"colab-df-convert\" onclick=\"convertToInteractive('df-ad5ec336-ba09-410b-943a-96fbbc66ae85')\"\n",
              "              title=\"Convert this dataframe to an interactive table.\"\n",
              "              style=\"display:none;\">\n",
              "        \n",
              "  <svg xmlns=\"http://www.w3.org/2000/svg\" height=\"24px\"viewBox=\"0 0 24 24\"\n",
              "       width=\"24px\">\n",
              "    <path d=\"M0 0h24v24H0V0z\" fill=\"none\"/>\n",
              "    <path d=\"M18.56 5.44l.94 2.06.94-2.06 2.06-.94-2.06-.94-.94-2.06-.94 2.06-2.06.94zm-11 1L8.5 8.5l.94-2.06 2.06-.94-2.06-.94L8.5 2.5l-.94 2.06-2.06.94zm10 10l.94 2.06.94-2.06 2.06-.94-2.06-.94-.94-2.06-.94 2.06-2.06.94z\"/><path d=\"M17.41 7.96l-1.37-1.37c-.4-.4-.92-.59-1.43-.59-.52 0-1.04.2-1.43.59L10.3 9.45l-7.72 7.72c-.78.78-.78 2.05 0 2.83L4 21.41c.39.39.9.59 1.41.59.51 0 1.02-.2 1.41-.59l7.78-7.78 2.81-2.81c.8-.78.8-2.07 0-2.86zM5.41 20L4 18.59l7.72-7.72 1.47 1.35L5.41 20z\"/>\n",
              "  </svg>\n",
              "      </button>\n",
              "      \n",
              "  <style>\n",
              "    .colab-df-container {\n",
              "      display:flex;\n",
              "      flex-wrap:wrap;\n",
              "      gap: 12px;\n",
              "    }\n",
              "\n",
              "    .colab-df-convert {\n",
              "      background-color: #E8F0FE;\n",
              "      border: none;\n",
              "      border-radius: 50%;\n",
              "      cursor: pointer;\n",
              "      display: none;\n",
              "      fill: #1967D2;\n",
              "      height: 32px;\n",
              "      padding: 0 0 0 0;\n",
              "      width: 32px;\n",
              "    }\n",
              "\n",
              "    .colab-df-convert:hover {\n",
              "      background-color: #E2EBFA;\n",
              "      box-shadow: 0px 1px 2px rgba(60, 64, 67, 0.3), 0px 1px 3px 1px rgba(60, 64, 67, 0.15);\n",
              "      fill: #174EA6;\n",
              "    }\n",
              "\n",
              "    [theme=dark] .colab-df-convert {\n",
              "      background-color: #3B4455;\n",
              "      fill: #D2E3FC;\n",
              "    }\n",
              "\n",
              "    [theme=dark] .colab-df-convert:hover {\n",
              "      background-color: #434B5C;\n",
              "      box-shadow: 0px 1px 3px 1px rgba(0, 0, 0, 0.15);\n",
              "      filter: drop-shadow(0px 1px 2px rgba(0, 0, 0, 0.3));\n",
              "      fill: #FFFFFF;\n",
              "    }\n",
              "  </style>\n",
              "\n",
              "      <script>\n",
              "        const buttonEl =\n",
              "          document.querySelector('#df-ad5ec336-ba09-410b-943a-96fbbc66ae85 button.colab-df-convert');\n",
              "        buttonEl.style.display =\n",
              "          google.colab.kernel.accessAllowed ? 'block' : 'none';\n",
              "\n",
              "        async function convertToInteractive(key) {\n",
              "          const element = document.querySelector('#df-ad5ec336-ba09-410b-943a-96fbbc66ae85');\n",
              "          const dataTable =\n",
              "            await google.colab.kernel.invokeFunction('convertToInteractive',\n",
              "                                                     [key], {});\n",
              "          if (!dataTable) return;\n",
              "\n",
              "          const docLinkHtml = 'Like what you see? Visit the ' +\n",
              "            '<a target=\"_blank\" href=https://colab.research.google.com/notebooks/data_table.ipynb>data table notebook</a>'\n",
              "            + ' to learn more about interactive tables.';\n",
              "          element.innerHTML = '';\n",
              "          dataTable['output_type'] = 'display_data';\n",
              "          await google.colab.output.renderOutput(dataTable, element);\n",
              "          const docLink = document.createElement('div');\n",
              "          docLink.innerHTML = docLinkHtml;\n",
              "          element.appendChild(docLink);\n",
              "        }\n",
              "      </script>\n",
              "    </div>\n",
              "  </div>\n",
              "  "
            ]
          },
          "metadata": {},
          "execution_count": 75
        }
      ]
    },
    {
      "cell_type": "code",
      "source": [
        "cervical_data.shape"
      ],
      "metadata": {
        "colab": {
          "base_uri": "https://localhost:8080/"
        },
        "id": "UwuRwEaBunHk",
        "outputId": "a9b9a995-38b3-46b0-dc35-e6e4dcb04f7d"
      },
      "execution_count": null,
      "outputs": [
        {
          "output_type": "execute_result",
          "data": {
            "text/plain": [
              "(72, 20)"
            ]
          },
          "metadata": {},
          "execution_count": 76
        }
      ]
    },
    {
      "cell_type": "code",
      "source": [
        "sns.countplot(cervical_data['ca_cervix'])"
      ],
      "metadata": {
        "colab": {
          "base_uri": "https://localhost:8080/",
          "height": 352
        },
        "id": "DtQ5Rpn9usjY",
        "outputId": "ab6f3c79-8998-4591-e292-9de46def0d38"
      },
      "execution_count": null,
      "outputs": [
        {
          "output_type": "stream",
          "name": "stderr",
          "text": [
            "/usr/local/lib/python3.7/dist-packages/seaborn/_decorators.py:43: FutureWarning: Pass the following variable as a keyword arg: x. From version 0.12, the only valid positional argument will be `data`, and passing other arguments without an explicit keyword will result in an error or misinterpretation.\n",
            "  FutureWarning\n"
          ]
        },
        {
          "output_type": "execute_result",
          "data": {
            "text/plain": [
              "<matplotlib.axes._subplots.AxesSubplot at 0x7f98d33c6450>"
            ]
          },
          "metadata": {},
          "execution_count": 77
        },
        {
          "output_type": "display_data",
          "data": {
            "text/plain": [
              "<Figure size 432x288 with 1 Axes>"
            ],
            "image/png": "[encoded data removed]"
          },
          "metadata": {
            "needs_background": "light"
          }
        }
      ]
    },
    {
      "cell_type": "code",
      "source": [
        "x = cervical_data.iloc[:,[0,1,2,3,4,5,6,7,8,9,10,11,12,13,14,15,16,17,18]].values\n",
        "y = cervical_data.iloc[:, 19].values"
      ],
      "metadata": {
        "id": "HVeuJATEu-J2"
      },
      "execution_count": null,
      "outputs": []
    },
    {
      "cell_type": "code",
      "source": [
        "x_train, x_test, y_train, y_test = train_test_split(x,y,test_size=0.3, stratify=y, random_state=0)"
      ],
      "metadata": {
        "id": "D_nB9XH7xN4K"
      },
      "execution_count": null,
      "outputs": []
    },
    {
      "cell_type": "code",
      "source": [
        "sc = StandardScaler()\n",
        "x_train = sc.fit_transform(x_train)\n",
        "x_test = sc.transform(x_test)"
      ],
      "metadata": {
        "id": "V1uB6RcRxO0c"
      },
      "execution_count": null,
      "outputs": []
    },
    {
      "cell_type": "code",
      "source": [
        "model = tf.keras.models.Sequential()\n",
        "model.add(tf.keras.layers.Dense(8,activation='relu',input_shape=(19,)))\n",
        "model.add(tf.keras.layers.Dense(3,activation='softmax'))"
      ],
      "metadata": {
        "id": "KEPs7io80fvF"
      },
      "execution_count": null,
      "outputs": []
    },
    {
      "cell_type": "code",
      "source": [
        "model.compile(optimizer='adam', \n",
        "              loss='sparse_categorical_crossentropy', \n",
        "              metrics='accuracy')"
      ],
      "metadata": {
        "id": "DeFFDE9S5bRi"
      },
      "execution_count": null,
      "outputs": []
    },
    {
      "cell_type": "code",
      "source": [
        "model.summary()"
      ],
      "metadata": {
        "colab": {
          "base_uri": "https://localhost:8080/"
        },
        "id": "tSYtM3DG7dwe",
        "outputId": "58577b21-0cde-4ee6-bbcb-64b38df4319b"
      },
      "execution_count": null,
      "outputs": [
        {
          "output_type": "stream",
          "name": "stdout",
          "text": [
            "Model: \"sequential_3\"\n",
            "_________________________________________________________________\n",
            " Layer (type)                Output Shape              Param #   \n",
            "=================================================================\n",
            " dense_6 (Dense)             (None, 8)                 160       \n",
            "                                                                 \n",
            " dense_7 (Dense)             (None, 3)                 27        \n",
            "                                                                 \n",
            "=================================================================\n",
            "Total params: 187\n",
            "Trainable params: 187\n",
            "Non-trainable params: 0\n",
            "_________________________________________________________________\n"
          ]
        }
      ]
    },
    {
      "cell_type": "code",
      "source": [
        "class_weights = {0:1, 1:6, 2:7}\n",
        "\n",
        "history = model.fit(x_train, y_train, batch_size = 8, epochs= 30, verbose=2, class_weight=class_weights, validation_split=0.2)"
      ],
      "metadata": {
        "colab": {
          "base_uri": "https://localhost:8080/"
        },
        "id": "lFkQTuuT7jwB",
        "outputId": "fb41a634-436a-48a1-b759-2122c03e643b"
      },
      "execution_count": null,
      "outputs": [
        {
          "output_type": "stream",
          "name": "stdout",
          "text": [
            "Epoch 1/30\n",
            "5/5 - 0s - loss: 3.8205 - accuracy: 0.2000 - val_loss: 2.1175 - val_accuracy: 0.2000 - 433ms/epoch - 87ms/step\n",
            "Epoch 2/30\n",
            "5/5 - 0s - loss: 3.6279 - accuracy: 0.2250 - val_loss: 2.0758 - val_accuracy: 0.2000 - 35ms/epoch - 7ms/step\n",
            "Epoch 3/30\n",
            "5/5 - 0s - loss: 3.4591 - accuracy: 0.2250 - val_loss: 2.0357 - val_accuracy: 0.2000 - 31ms/epoch - 6ms/step\n",
            "Epoch 4/30\n",
            "5/5 - 0s - loss: 3.2849 - accuracy: 0.2500 - val_loss: 1.9998 - val_accuracy: 0.2000 - 29ms/epoch - 6ms/step\n",
            "Epoch 5/30\n",
            "5/5 - 0s - loss: 3.1353 - accuracy: 0.2750 - val_loss: 1.9629 - val_accuracy: 0.2000 - 32ms/epoch - 6ms/step\n",
            "Epoch 6/30\n",
            "5/5 - 0s - loss: 2.9874 - accuracy: 0.3000 - val_loss: 1.9270 - val_accuracy: 0.2000 - 30ms/epoch - 6ms/step\n",
            "Epoch 7/30\n",
            "5/5 - 0s - loss: 2.8725 - accuracy: 0.3000 - val_loss: 1.8965 - val_accuracy: 0.2000 - 31ms/epoch - 6ms/step\n",
            "Epoch 8/30\n",
            "5/5 - 0s - loss: 2.7316 - accuracy: 0.3250 - val_loss: 1.8658 - val_accuracy: 0.2000 - 37ms/epoch - 7ms/step\n",
            "Epoch 9/30\n",
            "5/5 - 0s - loss: 2.6181 - accuracy: 0.3750 - val_loss: 1.8361 - val_accuracy: 0.2000 - 32ms/epoch - 6ms/step\n",
            "Epoch 10/30\n",
            "5/5 - 0s - loss: 2.4978 - accuracy: 0.4000 - val_loss: 1.8042 - val_accuracy: 0.3000 - 31ms/epoch - 6ms/step\n",
            "Epoch 11/30\n",
            "5/5 - 0s - loss: 2.3923 - accuracy: 0.4000 - val_loss: 1.7733 - val_accuracy: 0.4000 - 36ms/epoch - 7ms/step\n",
            "Epoch 12/30\n",
            "5/5 - 0s - loss: 2.3148 - accuracy: 0.4250 - val_loss: 1.7446 - val_accuracy: 0.4000 - 30ms/epoch - 6ms/step\n",
            "Epoch 13/30\n",
            "5/5 - 0s - loss: 2.2128 - accuracy: 0.4250 - val_loss: 1.7173 - val_accuracy: 0.4000 - 30ms/epoch - 6ms/step\n",
            "Epoch 14/30\n",
            "5/5 - 0s - loss: 2.1200 - accuracy: 0.4250 - val_loss: 1.6926 - val_accuracy: 0.4000 - 32ms/epoch - 6ms/step\n",
            "Epoch 15/30\n",
            "5/5 - 0s - loss: 2.0358 - accuracy: 0.4500 - val_loss: 1.6665 - val_accuracy: 0.4000 - 31ms/epoch - 6ms/step\n",
            "Epoch 16/30\n",
            "5/5 - 0s - loss: 1.9576 - accuracy: 0.4500 - val_loss: 1.6432 - val_accuracy: 0.4000 - 31ms/epoch - 6ms/step\n",
            "Epoch 17/30\n",
            "5/5 - 0s - loss: 1.8826 - accuracy: 0.4500 - val_loss: 1.6213 - val_accuracy: 0.4000 - 35ms/epoch - 7ms/step\n",
            "Epoch 18/30\n",
            "5/5 - 0s - loss: 1.8179 - accuracy: 0.4500 - val_loss: 1.6016 - val_accuracy: 0.4000 - 29ms/epoch - 6ms/step\n",
            "Epoch 19/30\n",
            "5/5 - 0s - loss: 1.7481 - accuracy: 0.4750 - val_loss: 1.5795 - val_accuracy: 0.4000 - 30ms/epoch - 6ms/step\n",
            "Epoch 20/30\n",
            "5/5 - 0s - loss: 1.6848 - accuracy: 0.4750 - val_loss: 1.5588 - val_accuracy: 0.4000 - 33ms/epoch - 7ms/step\n",
            "Epoch 21/30\n",
            "5/5 - 0s - loss: 1.6187 - accuracy: 0.4750 - val_loss: 1.5360 - val_accuracy: 0.4000 - 31ms/epoch - 6ms/step\n",
            "Epoch 22/30\n",
            "5/5 - 0s - loss: 1.5698 - accuracy: 0.4500 - val_loss: 1.5159 - val_accuracy: 0.5000 - 31ms/epoch - 6ms/step\n",
            "Epoch 23/30\n",
            "5/5 - 0s - loss: 1.5229 - accuracy: 0.4500 - val_loss: 1.4944 - val_accuracy: 0.5000 - 32ms/epoch - 6ms/step\n",
            "Epoch 24/30\n",
            "5/5 - 0s - loss: 1.4745 - accuracy: 0.4500 - val_loss: 1.4733 - val_accuracy: 0.5000 - 31ms/epoch - 6ms/step\n",
            "Epoch 25/30\n",
            "5/5 - 0s - loss: 1.4344 - accuracy: 0.4500 - val_loss: 1.4526 - val_accuracy: 0.5000 - 44ms/epoch - 9ms/step\n",
            "Epoch 26/30\n",
            "5/5 - 0s - loss: 1.3912 - accuracy: 0.4500 - val_loss: 1.4305 - val_accuracy: 0.5000 - 34ms/epoch - 7ms/step\n",
            "Epoch 27/30\n",
            "5/5 - 0s - loss: 1.3536 - accuracy: 0.4500 - val_loss: 1.4112 - val_accuracy: 0.5000 - 34ms/epoch - 7ms/step\n",
            "Epoch 28/30\n",
            "5/5 - 0s - loss: 1.3174 - accuracy: 0.4500 - val_loss: 1.3916 - val_accuracy: 0.6000 - 30ms/epoch - 6ms/step\n",
            "Epoch 29/30\n",
            "5/5 - 0s - loss: 1.2817 - accuracy: 0.4500 - val_loss: 1.3727 - val_accuracy: 0.6000 - 38ms/epoch - 8ms/step\n",
            "Epoch 30/30\n",
            "5/5 - 0s - loss: 1.2490 - accuracy: 0.4500 - val_loss: 1.3566 - val_accuracy: 0.6000 - 30ms/epoch - 6ms/step\n"
          ]
        }
      ]
    },
    {
      "cell_type": "code",
      "source": [
        "accuracy = history.history['accuracy'] \n",
        "validation_accuracy = history.history['val_accuracy']\n",
        "\n",
        "plt.plot(accuracy, label='Training Set Accuracy')\n",
        "plt.plot(validation_accuracy, label='Validation Set Accuracy')\n",
        "plt.ylabel('Accuracy')\n",
        "plt.ylim([min(plt.ylim()),1.2])\n",
        "plt.title('Training and Validation Accuracy Across Epochs')\n",
        "plt.legend()"
      ],
      "metadata": {
        "colab": {
          "base_uri": "https://localhost:8080/",
          "height": 298
        },
        "id": "Y5vmlynzBh0b",
        "outputId": "b71822ca-cbce-4e69-dbd3-e1c82b4caf0d"
      },
      "execution_count": null,
      "outputs": [
        {
          "output_type": "execute_result",
          "data": {
            "text/plain": [
              "<matplotlib.legend.Legend at 0x7f98d3038990>"
            ]
          },
          "metadata": {},
          "execution_count": 85
        },
        {
          "output_type": "display_data",
          "data": {
            "text/plain": [
              "<Figure size 432x288 with 1 Axes>"
            ],
            "image/png": "[encoded data removed]"
          },
          "metadata": {
            "needs_background": "light"
          }
        }
      ]
    },
    {
      "cell_type": "code",
      "source": [
        "loss = history.history['loss'] \n",
        "validation_loss = history.history['val_loss']\n",
        "\n",
        "plt.plot(loss, label='Training Set Loss')\n",
        "plt.plot(validation_loss, label='Validation Set Loss')\n",
        "plt.ylabel('Loss')\n",
        "plt.title('Training and Validation Accuracy Across Epochs')\n",
        "plt.legend()"
      ],
      "metadata": {
        "colab": {
          "base_uri": "https://localhost:8080/",
          "height": 298
        },
        "id": "QK4HWpngCkBE",
        "outputId": "e5a99a40-98e9-48b5-bb53-73f2c6eb7199"
      },
      "execution_count": null,
      "outputs": [
        {
          "output_type": "execute_result",
          "data": {
            "text/plain": [
              "<matplotlib.legend.Legend at 0x7f98d0689f90>"
            ]
          },
          "metadata": {},
          "execution_count": 86
        },
        {
          "output_type": "display_data",
          "data": {
            "text/plain": [
              "<Figure size 432x288 with 1 Axes>"
            ],
            "image/png": "[encoded data removed]"
          },
          "metadata": {
            "needs_background": "light"
          }
        }
      ]
    },
    {
      "cell_type": "code",
      "source": [
        "from sklearn.metrics import confusion_matrix, classification_report"
      ],
      "metadata": {
        "id": "ph4YjbdmDJaS"
      },
      "execution_count": null,
      "outputs": []
    },
    {
      "cell_type": "code",
      "source": [
        "y_pred = model.predict(x_test) \n",
        "y_pred = y_pred.argmax(axis=1)"
      ],
      "metadata": {
        "colab": {
          "base_uri": "https://localhost:8080/"
        },
        "id": "fjde2NxXDPf-",
        "outputId": "8b61c886-c119-4b9e-eea9-a6e42fa220d5"
      },
      "execution_count": null,
      "outputs": [
        {
          "output_type": "stream",
          "name": "stdout",
          "text": [
            "1/1 [==============================] - 0s 49ms/step\n"
          ]
        }
      ]
    },
    {
      "cell_type": "code",
      "source": [
        "confusion_matrix = confusion_matrix(y_test,y_pred)\n",
        "\n",
        "ax = sns.heatmap(confusion_matrix, cmap='flare',annot=True, fmt='d')\n",
        "\n",
        "plt.xlabel(\"Predicted Class\",fontsize=12)\n",
        "plt.ylabel(\"True Class\",fontsize=12)\n",
        "plt.title(\"Confusion Matrix\",fontsize=12)\n",
        "\n",
        "plt.show()"
      ],
      "metadata": {
        "colab": {
          "base_uri": "https://localhost:8080/",
          "height": 298
        },
        "id": "9Fbq3EJ3DX9u",
        "outputId": "07fd3da6-f68e-484d-cec3-ae24dd056a21"
      },
      "execution_count": null,
      "outputs": [
        {
          "output_type": "display_data",
          "data": {
            "text/plain": [
              "<Figure size 432x288 with 2 Axes>"
            ],
            "image/png": "[encoded data removed]"
          },
          "metadata": {
            "needs_background": "light"
          }
        }
      ]
    },
    {
      "cell_type": "code",
      "source": [
        "print(classification_report(y_test,y_pred))"
      ],
      "metadata": {
        "colab": {
          "base_uri": "https://localhost:8080/"
        },
        "id": "nBYjVwgaEKss",
        "outputId": "5e9bdfd3-061c-4a3d-bc94-6ab3ad233311"
      },
      "execution_count": null,
      "outputs": [
        {
          "output_type": "stream",
          "name": "stdout",
          "text": [
            "              precision    recall  f1-score   support\n",
            "\n",
            "           0       0.83      0.31      0.45        16\n",
            "           1       0.31      0.83      0.45         6\n",
            "\n",
            "    accuracy                           0.45        22\n",
            "   macro avg       0.57      0.57      0.45        22\n",
            "weighted avg       0.69      0.45      0.45        22\n",
            "\n"
          ]
        }
      ]
    },
    {
      "cell_type": "code",
      "source": [],
      "metadata": {
        "id": "sJIGYr0bEMgf"
      },
      "execution_count": null,
      "outputs": []
    }
  ],
  "metadata": {
    "colab": {
      "collapsed_sections": [],
      "provenance": [],
      "include_colab_link": true
    },
    "kernelspec": {
      "display_name": "Python 3",
      "name": "python3"
    },
    "accelerator": "GPU",
    "gpuClass": "standard"
  },
  "nbformat": 4,
  "nbformat_minor": 0
}